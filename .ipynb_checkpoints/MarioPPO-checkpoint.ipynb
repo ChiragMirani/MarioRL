{
 "cells": [
  {
   "cell_type": "markdown",
   "id": "c5206391",
   "metadata": {},
   "source": [
    "# Super Mario Reinforcement Learning Agent - PPO Stable-baselines\n",
    "### Code written by Chirag Mirani \n",
    "### Date: February 8, 2022\n",
    "\n",
    "## In this code we use open-ai stable baselines to play Mario. Stable-baselines are like Scikit-learn in data science.  They allow you to use the latest reinforcement libraries in Open-AI gym. \n"
   ]
  },
  {
   "cell_type": "code",
   "execution_count": null,
   "id": "fb67c811",
   "metadata": {},
   "outputs": [
    {
     "name": "stdout",
     "output_type": "stream",
     "text": [
      "Using cpu device\n",
      "Wrapping the env in a VecTransposeImage.\n"
     ]
    }
   ],
   "source": [
    "#Mario PPO\n",
    "import gym\n",
    "from stable_baselines3 import PPO\n",
    "#gives access to mario environment\n",
    "import gym_super_mario_bros\n",
    "\n",
    "from stable_baselines3.common.vec_env import VecFrameStack\n",
    "\n",
    "#from nes.py wrappers..\n",
    "from nes_py.wrappers import JoypadSpace\n",
    "from gym.wrappers import GrayScaleObservation\n",
    "from stable_baselines3.common.vec_env import VecFrameStack, DummyVecEnv\n",
    "from gym_super_mario_bros.actions import SIMPLE_MOVEMENT\n",
    "\n",
    "\n",
    "# load super mario simple environment \n",
    "env = gym_super_mario_bros.make('SuperMarioBros-v0')\n",
    "env = JoypadSpace(env, SIMPLE_MOVEMENT)\n",
    "\n",
    "#grab grayscale pixels\n",
    "env = GrayScaleObservation(env, keep_dim=True)\n",
    "env = DummyVecEnv([lambda: env])\n",
    "#stack four obseration frames\n",
    "env = VecFrameStack(env, 4, channels_order='last')\n",
    "\n",
    "#use PPO algorithm from Open-AI stable baselines\n",
    "model = PPO('CnnPolicy', env, verbose=1, learning_rate=0.0001, n_steps=512) \n",
    "\n",
    "# train on this environment...\n",
    "#increase time steps to 25000\n",
    "model.learn(total_timesteps=25)\n",
    "\n",
    "\n",
    "# reset the environment\n",
    "env.reset()\n",
    "\n",
    "#run for five episodes\n",
    "episodes = 5\n",
    "\n",
    "# for each episode\n",
    "for ep in range(episodes):\n",
    "    # reset the environment\n",
    "    obs = env.reset()\n",
    "    \n",
    "    # set done equal to fale\n",
    "    done = False\n",
    "    \n",
    "    #go through the environment\n",
    "    while not done:\n",
    "        #get actions and states based on the environment\n",
    "        action, _states = model.predict(obs)\n",
    "        \n",
    "        #take output of the action in \n",
    "        obs, rewards, done, info = env.step(action)\n",
    "        \n",
    "        # show the enviornment\n",
    "        env.render()\n",
    "        "
   ]
  },
  {
   "cell_type": "code",
   "execution_count": null,
   "id": "dc87fe8d",
   "metadata": {},
   "outputs": [],
   "source": [
    "# close and reset the environment\n",
    "env.close()\n",
    "env.reset()"
   ]
  },
  {
   "cell_type": "code",
   "execution_count": null,
   "id": "4b9078c5",
   "metadata": {},
   "outputs": [],
   "source": []
  }
 ],
 "metadata": {
  "kernelspec": {
   "display_name": "Python 3 (ipykernel)",
   "language": "python",
   "name": "python3"
  },
  "language_info": {
   "codemirror_mode": {
    "name": "ipython",
    "version": 3
   },
   "file_extension": ".py",
   "mimetype": "text/x-python",
   "name": "python",
   "nbconvert_exporter": "python",
   "pygments_lexer": "ipython3",
   "version": "3.8.12"
  }
 },
 "nbformat": 4,
 "nbformat_minor": 5
}
